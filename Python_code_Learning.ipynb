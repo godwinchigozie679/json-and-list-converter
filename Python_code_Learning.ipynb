{
  "nbformat": 4,
  "nbformat_minor": 0,
  "metadata": {
    "colab": {
      "name": "Python code Learning",
      "provenance": [],
      "collapsed_sections": [],
      "toc_visible": true,
      "authorship_tag": "ABX9TyMma6D0v+uDOawd/nm4Vjlg",
      "include_colab_link": true
    },
    "kernelspec": {
      "name": "python3",
      "display_name": "Python 3"
    },
    "language_info": {
      "name": "python"
    }
  },
  "cells": [
    {
      "cell_type": "markdown",
      "metadata": {
        "id": "view-in-github",
        "colab_type": "text"
      },
      "source": [
        "<a href=\"https://colab.research.google.com/github/godwinchigozie679/json-and-list-converter/blob/main/Python_code_Learning.ipynb\" target=\"_parent\"><img src=\"https://colab.research.google.com/assets/colab-badge.svg\" alt=\"Open In Colab\"/></a>"
      ]
    },
    {
      "cell_type": "markdown",
      "source": [
        ""
      ],
      "metadata": {
        "id": "j3rXiCds9fyC"
      }
    },
    {
      "cell_type": "markdown",
      "source": [
        "Loading Data in Python\n",
        "* Open a File\n",
        "* Convert from dict to Json\n",
        "* Convert from Json to dict\n",
        "* Open file using python\n",
        "\n"
      ],
      "metadata": {
        "id": "v6a8FwyJ9kob"
      }
    },
    {
      "cell_type": "markdown",
      "source": [
        "Note:\n",
        "Absolute part is a part as the same directory on the this dashboard. Relative directory is directory from your drive"
      ],
      "metadata": {
        "id": "lNCQb5E3_0XI"
      }
    },
    {
      "cell_type": "code",
      "source": [
        "# When you open a file using open; always remember to close it. but when you open using \"with\" the file will close automatically.\n",
        "file = open('sample_data/anscombe.json')\n",
        "file_content = file.read() # This will give you  a single string instead use readlines\n",
        "readline_file = file.readlines() # This will give you the data in list of data\n",
        "readline_file\n",
        "# Close\n",
        "file.close()"
      ],
      "metadata": {
        "id": "IKMdXX7VL5Yk"
      },
      "execution_count": null,
      "outputs": []
    },
    {
      "cell_type": "code",
      "source": [
        "with open('sample_data/anscombe.sql') as f:\n",
        "  content_f = f.read()\n",
        "  "
      ],
      "metadata": {
        "id": "exk-t3zdL7EU"
      },
      "execution_count": null,
      "outputs": []
    },
    {
      "cell_type": "code",
      "source": [
        "import pandas as pd\n",
        "pdfile = pd.read_csv('sample_data/mnist_test.csv')\n",
        "print(pdfile.head(2))\n"
      ],
      "metadata": {
        "colab": {
          "base_uri": "https://localhost:8080/"
        },
        "id": "xJPismQqMnij",
        "outputId": "09d4c25f-43c9-4398-c8ed-409d3f478cfb"
      },
      "execution_count": null,
      "outputs": [
        {
          "output_type": "stream",
          "name": "stdout",
          "text": [
            "   7  0  0.1  0.2  0.3  0.4  0.5  0.6  0.7  0.8  ...  0.658  0.659  0.660  \\\n",
            "0  2  0    0    0    0    0    0    0    0    0  ...      0      0      0   \n",
            "1  1  0    0    0    0    0    0    0    0    0  ...      0      0      0   \n",
            "\n",
            "   0.661  0.662  0.663  0.664  0.665  0.666  0.667  \n",
            "0      0      0      0      0      0      0      0  \n",
            "1      0      0      0      0      0      0      0  \n",
            "\n",
            "[2 rows x 785 columns]\n"
          ]
        }
      ]
    },
    {
      "cell_type": "code",
      "source": [
        "import json\n",
        "contact = {'name': 'Chigozie', 'phone': '0807777111', 'valid': True}\n",
        "json_f = json.dumps(contact) # convert to json\n",
        "json_f\n",
        "json_dict = json.loads(json_f) # convert to pyton dict\n",
        "json_dict\n",
        "json_dict['valid']\n"
      ],
      "metadata": {
        "id": "kiDkhSiJ-v4s",
        "colab": {
          "base_uri": "https://localhost:8080/"
        },
        "outputId": "a60aa4f2-2d5e-42ef-a36b-b65d0df77878"
      },
      "execution_count": null,
      "outputs": [
        {
          "output_type": "execute_result",
          "data": {
            "text/plain": [
              "True"
            ]
          },
          "metadata": {},
          "execution_count": 66
        }
      ]
    },
    {
      "cell_type": "code",
      "source": [
        "# Working with Json file. \n",
        "'''The json. load() is used to read the JSON document \n",
        "from file and The json. loads() is used to convert \n",
        "the JSON String document into the Python dictionary.'''\n",
        "\n",
        "with open('sample_data/anscombe.json') as f:\n",
        "  dict_f = json.load(f)\n",
        "\n",
        "  \n",
        "convert_to_json = json.dumps(dict_f)\n",
        "convert_to_json\n",
        "  \n"
      ],
      "metadata": {
        "colab": {
          "base_uri": "https://localhost:8080/",
          "height": 174
        },
        "id": "LjACpWEePVfF",
        "outputId": "5b9377c0-9b15-45ea-aa9c-7272e847212d"
      },
      "execution_count": null,
      "outputs": [
        {
          "output_type": "execute_result",
          "data": {
            "text/plain": [
              "'[{\"Series\": \"I\", \"X\": 10.0, \"Y\": 8.04}, {\"Series\": \"I\", \"X\": 8.0, \"Y\": 6.95}, {\"Series\": \"I\", \"X\": 13.0, \"Y\": 7.58}, {\"Series\": \"I\", \"X\": 9.0, \"Y\": 8.81}, {\"Series\": \"I\", \"X\": 11.0, \"Y\": 8.33}, {\"Series\": \"I\", \"X\": 14.0, \"Y\": 9.96}, {\"Series\": \"I\", \"X\": 6.0, \"Y\": 7.24}, {\"Series\": \"I\", \"X\": 4.0, \"Y\": 4.26}, {\"Series\": \"I\", \"X\": 12.0, \"Y\": 10.84}, {\"Series\": \"I\", \"X\": 7.0, \"Y\": 4.81}, {\"Series\": \"I\", \"X\": 5.0, \"Y\": 5.68}, {\"Series\": \"II\", \"X\": 10.0, \"Y\": 9.14}, {\"Series\": \"II\", \"X\": 8.0, \"Y\": 8.14}, {\"Series\": \"II\", \"X\": 13.0, \"Y\": 8.74}, {\"Series\": \"II\", \"X\": 9.0, \"Y\": 8.77}, {\"Series\": \"II\", \"X\": 11.0, \"Y\": 9.26}, {\"Series\": \"II\", \"X\": 14.0, \"Y\": 8.1}, {\"Series\": \"II\", \"X\": 6.0, \"Y\": 6.13}, {\"Series\": \"II\", \"X\": 4.0, \"Y\": 3.1}, {\"Series\": \"II\", \"X\": 12.0, \"Y\": 9.13}, {\"Series\": \"II\", \"X\": 7.0, \"Y\": 7.26}, {\"Series\": \"II\", \"X\": 5.0, \"Y\": 4.74}, {\"Series\": \"III\", \"X\": 10.0, \"Y\": 7.46}, {\"Series\": \"III\", \"X\": 8.0, \"Y\": 6.77}, {\"Series\": \"III\", \"X\": 13.0, \"Y\": 12.74}, {\"Series\": \"III\", \"X\": 9.0, \"Y\": 7.11}, {\"Series\": \"III\", \"X\": 11.0, \"Y\": 7.81}, {\"Series\": \"III\", \"X\": 14.0, \"Y\": 8.84}, {\"Series\": \"III\", \"X\": 6.0, \"Y\": 6.08}, {\"Series\": \"III\", \"X\": 4.0, \"Y\": 5.39}, {\"Series\": \"III\", \"X\": 12.0, \"Y\": 8.15}, {\"Series\": \"III\", \"X\": 7.0, \"Y\": 6.42}, {\"Series\": \"III\", \"X\": 5.0, \"Y\": 5.73}, {\"Series\": \"IV\", \"X\": 8.0, \"Y\": 6.58}, {\"Series\": \"IV\", \"X\": 8.0, \"Y\": 5.76}, {\"Series\": \"IV\", \"X\": 8.0, \"Y\": 7.71}, {\"Series\": \"IV\", \"X\": 8.0, \"Y\": 8.84}, {\"Series\": \"IV\", \"X\": 8.0, \"Y\": 8.47}, {\"Series\": \"IV\", \"X\": 8.0, \"Y\": 7.04}, {\"Series\": \"IV\", \"X\": 8.0, \"Y\": 5.25}, {\"Series\": \"IV\", \"X\": 19.0, \"Y\": 12.5}, {\"Series\": \"IV\", \"X\": 8.0, \"Y\": 5.56}, {\"Series\": \"IV\", \"X\": 8.0, \"Y\": 7.91}, {\"Series\": \"IV\", \"X\": 8.0, \"Y\": 6.89}]'"
            ],
            "application/vnd.google.colaboratory.intrinsic+json": {
              "type": "string"
            }
          },
          "metadata": {},
          "execution_count": 80
        }
      ]
    },
    {
      "cell_type": "code",
      "source": [
        "# Saving data from python to a disk; you do this using some special flag lie r, w\n",
        "# Json\n",
        "import json\n",
        "contact = {'name': 'Chigozie', 'phone': '0807777111', 'valid': True}, {'name': 'Chigozie', 'phone': '0807777111', 'valid': True}\n",
        "\n",
        "with open('sample_data/new_json.json', 'w') as f:\n",
        "  json.dump(contact, f)"
      ],
      "metadata": {
        "id": "lA2Esq6USF16"
      },
      "execution_count": null,
      "outputs": []
    },
    {
      "cell_type": "code",
      "source": [
        "read_data = open('sample_data/new_json.json')\n",
        "read_data.readlines()\n",
        "read_data.close()"
      ],
      "metadata": {
        "id": "72ZadMAyURFm"
      },
      "execution_count": null,
      "outputs": []
    }
  ]
}